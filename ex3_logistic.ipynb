{
 "cells": [
  {
   "cell_type": "code",
   "execution_count": 9,
   "metadata": {},
   "outputs": [],
   "source": [
    "import numpy as np \n",
    "from sklearn.linear_model import LogisticRegression\n",
    "import matplotlib.pyplot as plt\n",
    "\n",
    "def generate_data(n):\n",
    "    X=[]\n",
    "    y=[]\n",
    "    for i in range(n):\n",
    "        if i<=n/2:\n",
    "            X.append(np.random.normal(loc=4,scale=1))\n",
    "            y.append(0)\n",
    "        else:\n",
    "            X.append(np.random.normal(loc=8,scale=1))\n",
    "            y.append(1)\n",
    "    return np.array(X).reshape(n,1),np.array(y)           \n",
    "\n",
    "def sigmoid(z): \n",
    "    return 1/(1 + np.exp(-z))"
   ]
  },
  {
   "cell_type": "code",
   "execution_count": 11,
   "metadata": {},
   "outputs": [
    {
     "data": {
      "text/plain": [
       "<matplotlib.collections.PathCollection at 0x2658285d240>"
      ]
     },
     "execution_count": 11,
     "metadata": {},
     "output_type": "execute_result"
    },
    {
     "data": {
      "image/png": "[encoded data removed]",
      "text/plain": [
       "<Figure size 640x480 with 1 Axes>"
      ]
     },
     "metadata": {},
     "output_type": "display_data"
    }
   ],
   "source": [
    "n = 50 \n",
    "p = 1 \n",
    "X, y = generate_data(n)\n",
    "\n",
    "plt.scatter(X, y)\n"
   ]
  },
  {
   "cell_type": "code",
   "execution_count": 7,
   "metadata": {},
   "outputs": [],
   "source": [
    "clf = LogisticRegression(random_state=0).fit(X, y)"
   ]
  },
  {
   "cell_type": "code",
   "execution_count": 13,
   "metadata": {},
   "outputs": [
    {
     "name": "stdout",
     "output_type": "stream",
     "text": [
      "Coef [[2.02531124]]\n",
      "Interscept [-12.78517173]\n"
     ]
    }
   ],
   "source": [
    "print(\"Coef\" , clf.coef_) \n",
    "print(\"Interscept\", clf.intercept_)"
   ]
  },
  {
   "cell_type": "code",
   "execution_count": 18,
   "metadata": {},
   "outputs": [
    {
     "name": "stdout",
     "output_type": "stream",
     "text": [
      "(50, 1)\n"
     ]
    }
   ],
   "source": [
    "print(X.shape)"
   ]
  },
  {
   "cell_type": "code",
   "execution_count": 52,
   "metadata": {},
   "outputs": [],
   "source": [
    "def gradient_descent(X, y, learning_rate=0.01, num_iterations=10000):\n",
    "    \"\"\"Gradient descent for logistic regression.\"\"\"\n",
    "    # Initialize coefficients and intercept\n",
    "    num_features = X.shape[1]\n",
    "    coef = np.zeros((num_features))\n",
    "    intercept =0\n",
    "  \n",
    "    # Number of training examples\n",
    "    m = len(y)\n",
    "    \n",
    "    for _ in range(num_iterations):\n",
    "        # Compute predictions\n",
    "     \n",
    "        z = np.dot(X, coef) + intercept\n",
    "        predictions = sigmoid(z)\n",
    "        \n",
    "        # Compute errors\n",
    "        errors = predictions - y\n",
    "        \n",
    "        # Compute gradients\n",
    "        coef_gradient = np.dot(X.T, errors) / m\n",
    "        intercept_gradient = np.sum(errors) / m\n",
    "        \n",
    "        # Update coefficients and intercept\n",
    "       \n",
    "        coef -= learning_rate * coef_gradient\n",
    "        intercept -= learning_rate * intercept_gradient\n",
    "    \n",
    "    return coef, intercept"
   ]
  },
  {
   "cell_type": "code",
   "execution_count": 53,
   "metadata": {},
   "outputs": [],
   "source": [
    "coef , inter = gradient_descent(X, y )"
   ]
  },
  {
   "cell_type": "code",
   "execution_count": 54,
   "metadata": {},
   "outputs": [
    {
     "name": "stdout",
     "output_type": "stream",
     "text": [
      "[1.09045748]\n",
      "-6.1966647160635\n"
     ]
    }
   ],
   "source": [
    "print(coef)\n",
    "print(inter)"
   ]
  },
  {
   "cell_type": "code",
   "execution_count": 56,
   "metadata": {},
   "outputs": [],
   "source": [
    "def plot_sigmoid(X, y, coef, intercept):\n",
    "    \"\"\"Plot sigmoid curve along with data points.\"\"\"\n",
    "    # Generate a range of values for the input variable\n",
    "    x_values = np.linspace(np.min(X), np.max(X), 100)\n",
    "    \n",
    "    # Compute corresponding output values using the sigmoid function\n",
    "    z = np.dot(x_values.reshape(-1, 1), coef) + intercept\n",
    "    sigmoid_values = sigmoid(z)\n",
    "\n",
    "\n",
    "    x1_values = np.linspace(np.min(X[:, 1]), np.max(X[:, 1]), 100)\n",
    "    \n",
    "    # Compute corresponding X2 values using the equation of the decision boundary line\n",
    "    x2_values = -(coef[0] / coef[1]) * x1_values - (intercept / coef[1])\n",
    "\n",
    "    plt.plot(x1_values, x2_values, label='Decision Boundary', color='green')\n",
    "    \n",
    "    \n",
    "    # Plot sigmoid curve\n",
    "    plt.plot()\n",
    "    plt.plot(x_values, sigmoid_values, label='Sigmoid Curve', color='blue')\n",
    "    \n",
    "    # Plot data points\n",
    "    plt.scatter(X, y, color='red', label='Data Points')\n",
    "    \n",
    "    # Add labels and legend\n",
    "    plt.xlabel('X')\n",
    "    plt.ylabel('y')\n",
    "    plt.title('Sigmoid Curve and Data Points')\n",
    "    plt.legend()\n",
    "    \n",
    "    # Show plot\n",
    "    plt.show()"
   ]
  },
  {
   "cell_type": "code",
   "execution_count": 57,
   "metadata": {},
   "outputs": [
    {
     "ename": "IndexError",
     "evalue": "index 1 is out of bounds for axis 1 with size 1",
     "output_type": "error",
     "traceback": [
      "\u001b[1;31m---------------------------------------------------------------------------\u001b[0m",
      "\u001b[1;31mIndexError\u001b[0m                                Traceback (most recent call last)",
      "Cell \u001b[1;32mIn[57], line 1\u001b[0m\n\u001b[1;32m----> 1\u001b[0m \u001b[43mplot_sigmoid\u001b[49m\u001b[43m(\u001b[49m\u001b[43mX\u001b[49m\u001b[43m,\u001b[49m\u001b[43m \u001b[49m\u001b[43my\u001b[49m\u001b[43m \u001b[49m\u001b[43m,\u001b[49m\u001b[43m \u001b[49m\u001b[43mcoef\u001b[49m\u001b[43m \u001b[49m\u001b[43m,\u001b[49m\u001b[43m \u001b[49m\u001b[43minter\u001b[49m\u001b[43m)\u001b[49m\n",
      "Cell \u001b[1;32mIn[56], line 11\u001b[0m, in \u001b[0;36mplot_sigmoid\u001b[1;34m(X, y, coef, intercept)\u001b[0m\n\u001b[0;32m      7\u001b[0m z \u001b[38;5;241m=\u001b[39m np\u001b[38;5;241m.\u001b[39mdot(x_values\u001b[38;5;241m.\u001b[39mreshape(\u001b[38;5;241m-\u001b[39m\u001b[38;5;241m1\u001b[39m, \u001b[38;5;241m1\u001b[39m), coef) \u001b[38;5;241m+\u001b[39m intercept\n\u001b[0;32m      8\u001b[0m sigmoid_values \u001b[38;5;241m=\u001b[39m sigmoid(z)\n\u001b[1;32m---> 11\u001b[0m x1_values \u001b[38;5;241m=\u001b[39m np\u001b[38;5;241m.\u001b[39mlinspace(np\u001b[38;5;241m.\u001b[39mmin(\u001b[43mX\u001b[49m\u001b[43m[\u001b[49m\u001b[43m:\u001b[49m\u001b[43m,\u001b[49m\u001b[43m \u001b[49m\u001b[38;5;241;43m1\u001b[39;49m\u001b[43m]\u001b[49m), np\u001b[38;5;241m.\u001b[39mmax(X[:, \u001b[38;5;241m1\u001b[39m]), \u001b[38;5;241m100\u001b[39m)\n\u001b[0;32m     13\u001b[0m \u001b[38;5;66;03m# Compute corresponding X2 values using the equation of the decision boundary line\u001b[39;00m\n\u001b[0;32m     14\u001b[0m x2_values \u001b[38;5;241m=\u001b[39m \u001b[38;5;241m-\u001b[39m(coef[\u001b[38;5;241m0\u001b[39m] \u001b[38;5;241m/\u001b[39m coef[\u001b[38;5;241m1\u001b[39m]) \u001b[38;5;241m*\u001b[39m x1_values \u001b[38;5;241m-\u001b[39m (intercept \u001b[38;5;241m/\u001b[39m coef[\u001b[38;5;241m1\u001b[39m])\n",
      "\u001b[1;31mIndexError\u001b[0m: index 1 is out of bounds for axis 1 with size 1"
     ]
    }
   ],
   "source": [
    "plot_sigmoid(X, y , coef , inter)"
   ]
  },
  {
   "cell_type": "code",
   "execution_count": null,
   "metadata": {},
   "outputs": [],
   "source": []
  }
 ],
 "metadata": {
  "kernelspec": {
   "display_name": "Tree_transformer",
   "language": "python",
   "name": "python3"
  },
  "language_info": {
   "codemirror_mode": {
    "name": "ipython",
    "version": 3
   },
   "file_extension": ".py",
   "mimetype": "text/x-python",
   "name": "python",
   "nbconvert_exporter": "python",
   "pygments_lexer": "ipython3",
   "version": "3.10.13"
  }
 },
 "nbformat": 4,
 "nbformat_minor": 2
}
